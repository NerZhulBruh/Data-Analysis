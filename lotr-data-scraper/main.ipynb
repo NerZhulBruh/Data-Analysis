{
  "nbformat": 4,
  "nbformat_minor": 0,
  "metadata": {
    "colab": {
      "provenance": []
    },
    "kernelspec": {
      "name": "python3",
      "display_name": "Python 3"
    },
    "language_info": {
      "name": "python"
    }
  },
  "cells": [
    {
      "cell_type": "code",
      "execution_count": null,
      "metadata": {
        "colab": {
          "base_uri": "https://localhost:8080/"
        },
        "id": "n3wUyvSCBhP2",
        "outputId": "a36e05e1-0d7e-40d6-ffc3-a5c8eb4c8429"
      },
      "outputs": [
        {
          "output_type": "stream",
          "name": "stdout",
          "text": [
            "Данные успешно сохранены в файл: data/lotr_story.txt\n"
          ]
        }
      ],
      "source": [
        "import requests\n",
        "from bs4 import BeautifulSoup\n",
        "import os\n",
        "\n",
        "headers = {\n",
        "    'User-Agent': 'Mozilla/5.0 (Linux; Android 12; SM-S901B) AppleWebKit/537.36 (KHTML, like Gecko) Chrome/110.0.0.0 Mobile Safari/537.36'\n",
        "}\n",
        "url = \"https://lotr.fandom.com/ru/wiki/Властелин_Колец\"\n",
        "\n",
        "def writter(url, output_file):\n",
        "    response = requests.get(url, headers=headers)\n",
        "\n",
        "    if response.status_code == 200:\n",
        "        soup = BeautifulSoup(response.text, 'html.parser')\n",
        "\n",
        "        with open(output_file, 'w', encoding='utf-8') as file:\n",
        "            file.write(\"Содержание статьи 'Властелин Колец':\\n\\n\")\n",
        "\n",
        "            for header in soup.find_all(['h2', 'h3']):\n",
        "                section_title = header.text.strip()\n",
        "                file.write(f\"{section_title}\\n\")\n",
        "                file.write(\"-\" * len(section_title) + \"\\n\")\n",
        "                content = []\n",
        "                for sibling in header.find_next_siblings():\n",
        "                    if sibling.name in ['h2', 'h3']:\n",
        "                        break\n",
        "                    if sibling.name == 'p':\n",
        "                        content.append(sibling.text.strip())\n",
        "                if content:\n",
        "                    file.write(\"\\n\".join(content) + \"\\n\\n\")\n",
        "                else:\n",
        "                    file.write(\"Нет данных.\\n\\n\")\n",
        "        print(f\"Данные успешно сохранены в файл: {output_file}\")\n",
        "    else:\n",
        "        print(f\"Ошибка доступа к сайту: {response.status_code}\")\n",
        "\n",
        "if __name__ == \"__main__\":\n",
        "    output_dir = \"data\"\n",
        "    os.makedirs(output_dir, exist_ok=True)\n",
        "    output_file = os.path.join(output_dir, \"lotr_story.txt\")\n",
        "    writter(url, output_file)"
      ]
    }
  ]
}